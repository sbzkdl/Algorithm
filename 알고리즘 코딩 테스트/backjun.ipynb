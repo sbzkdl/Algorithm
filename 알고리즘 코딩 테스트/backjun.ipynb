{
 "cells": [
  {
   "attachments": {},
   "cell_type": "markdown",
   "metadata": {},
   "source": [
    "#### 자료구조"
   ]
  },
  {
   "attachments": {},
   "cell_type": "markdown",
   "metadata": {},
   "source": [
    "##### 배열과 리스트"
   ]
  },
  {
   "cell_type": "code",
   "execution_count": 3,
   "metadata": {},
   "outputs": [
    {
     "name": "stdout",
     "output_type": "stream",
     "text": [
      "15\n"
     ]
    }
   ],
   "source": [
    "# 35p / 11720\n",
    "# 5 / 54321\n",
    "n = int(input())\n",
    "numbers = str(input())\n",
    "\n",
    "li_num = list(numbers)\n",
    "\n",
    "all_sum = sum(map(int, li_num))\n",
    "\n",
    "print(all_sum)"
   ]
  },
  {
   "cell_type": "code",
   "execution_count": 2,
   "metadata": {},
   "outputs": [
    {
     "name": "stdout",
     "output_type": "stream",
     "text": [
      "38.75\n"
     ]
    }
   ],
   "source": [
    "# 38p / 1546\n",
    "# 5 / 1 2 4 8 16\n",
    "n = int(input())\n",
    "scores = input().split()\n",
    "\n",
    "li_scores = list(map(int, scores))\n",
    "\n",
    "max_score = max(li_scores)\n",
    "all_sum = sum(li_scores)\n",
    "\n",
    "new_aver = all_sum * 100 / max_score / n\n",
    "\n",
    "print(new_aver)"
   ]
  },
  {
   "attachments": {},
   "cell_type": "markdown",
   "metadata": {},
   "source": [
    "##### 구간 합"
   ]
  },
  {
   "cell_type": "code",
   "execution_count": 8,
   "metadata": {},
   "outputs": [
    {
     "name": "stdout",
     "output_type": "stream",
     "text": [
      "12\n",
      "9\n",
      "1\n"
     ]
    }
   ],
   "source": [
    "# ☆\n",
    "# 43p / 11659\n",
    "# 5 3 / 5 4 3 2 1 / 1 3 / 2 4 / 5 5\n",
    "import sys\n",
    "input = sys.stdin.readline\n",
    "\n",
    "suNo, quizNo = map(int, input().split())\n",
    "numbers = list(map(int, input().split()))\n",
    "\n",
    "prefix_sum = [0]\n",
    "temp = 0\n",
    "\n",
    "for i in numbers:\n",
    "    temp = temp + i\n",
    "    prefix_sum.append(temp)\n",
    "\n",
    "for i in range(quizNo):\n",
    "    s, e = map(int, input().split())\n",
    "    print(prefix_sum[e] - prefix_sum[s-1])"
   ]
  },
  {
   "cell_type": "code",
   "execution_count": 1,
   "metadata": {},
   "outputs": [
    {
     "name": "stdout",
     "output_type": "stream",
     "text": [
      "27\n",
      "6\n",
      "64\n"
     ]
    }
   ],
   "source": [
    "# 45p / 11660\n",
    "# 4 3 / 1 2 3 4 / 2 3 4 5 / 3 4 5 6 / 4 5 6 7 / 2 2 3 4 / 3 4 3 4 / 1 1 4 4\n",
    "import sys\n",
    "input = sys.stdin.readline\n",
    "\n",
    "n, m = map(int, input().split())\n",
    "origin_li = [[0] * (n + 1)]\n",
    "prefix_li = [[0] * (n + 1) for _ in range(n + 1)]\n",
    "\n",
    "for i in range(n):\n",
    "    row = [0] + [int(x) for x in input().split()]\n",
    "    origin_li.append(row)\n",
    "\n",
    "for i in range(1, n+1):\n",
    "    for j in range(1, n+1):\n",
    "        prefix_li[i][j] = prefix_li[i][j-1] + prefix_li[i-1][j] - prefix_li[i-1][j-1] + origin_li[i][j]\n",
    "\n",
    "for _ in range(m):\n",
    "    x1, y1, x2, y2 = map(int, input().split())\n",
    "    result = prefix_li[x2][y2] - prefix_li[x1-1][y2] - prefix_li[x2][y1-1] + prefix_li[x1-1][y1-1]\n",
    "    print(result)"
   ]
  },
  {
   "cell_type": "code",
   "execution_count": 1,
   "metadata": {},
   "outputs": [
    {
     "name": "stdout",
     "output_type": "stream",
     "text": [
      "7\n"
     ]
    }
   ],
   "source": [
    "# 50p / 10986\n",
    "# 5 3 / 1 2 3 1 2\n",
    "import sys\n",
    "input = sys.stdin.readline\n",
    "\n",
    "n, m = map(int, input().split())\n",
    "origin_li = list(map(int, input().split()))\n",
    "prefix_li = [0] * n\n",
    "count_li = [0] * m\n",
    "prefix_li[0] = origin_li[0]\n",
    "answer = 0\n",
    "\n",
    "for i in range(1, n):\n",
    "    prefix_li[i] = prefix_li[i-1] + origin_li[i]\n",
    "\n",
    "for i in range(n):\n",
    "    remainder = prefix_li[i] % m\n",
    "    if remainder == 0:\n",
    "        answer += 1\n",
    "    count_li[remainder] += 1\n",
    "\n",
    "for i in range(m):\n",
    "    if count_li[i] > 1:\n",
    "        answer += (count_li[i] * (count_li[i]-1) // 2)\n",
    "\n",
    "print(answer)"
   ]
  },
  {
   "attachments": {},
   "cell_type": "markdown",
   "metadata": {},
   "source": [
    "##### 투 포인터"
   ]
  },
  {
   "cell_type": "code",
   "execution_count": 2,
   "metadata": {},
   "outputs": [
    {
     "name": "stdout",
     "output_type": "stream",
     "text": [
      "4\n"
     ]
    }
   ],
   "source": [
    "# 54p / 2018\n",
    "# 15\n",
    "n = int(input())\n",
    "count = 1\n",
    "start_idx = 1\n",
    "end_idx = 1\n",
    "sum = 1\n",
    "\n",
    "while end_idx != n:\n",
    "    if sum == n:\n",
    "        count += 1\n",
    "        end_idx += 1\n",
    "        sum = sum + end_idx # sum += end_idx\n",
    "    elif sum > n:\n",
    "        sum = sum - start_idx # sum -= start_idx\n",
    "        start_idx += 1\n",
    "    else:\n",
    "        end_idx += 1\n",
    "        sum = sum + end_idx # sum += end_idx\n",
    "\n",
    "print(count)"
   ]
  },
  {
   "cell_type": "code",
   "execution_count": 1,
   "metadata": {},
   "outputs": [
    {
     "name": "stdout",
     "output_type": "stream",
     "text": [
      "2\n"
     ]
    }
   ],
   "source": [
    "# 57p / 1940\n",
    "# 6 / 9 / 2 7 4 1 5 3\n",
    "n = int(input())\n",
    "m = int(input())\n",
    "material = list(map(int, input().split()))\n",
    "material.sort()\n",
    "\n",
    "start_idx = 0\n",
    "end_idx = n-1\n",
    "count = 0\n",
    "\n",
    "while start_idx < end_idx:\n",
    "    sum = material[start_idx] + material[end_idx]\n",
    "    if sum < m:\n",
    "        start_idx += 1\n",
    "    elif sum > m:\n",
    "        end_idx -= 1\n",
    "    else:\n",
    "        count += 1\n",
    "        start_idx += 1\n",
    "        end_idx -= 1\n",
    "\n",
    "print(count)"
   ]
  },
  {
   "cell_type": "code",
   "execution_count": 3,
   "metadata": {},
   "outputs": [
    {
     "name": "stdout",
     "output_type": "stream",
     "text": [
      "8\n"
     ]
    }
   ],
   "source": [
    "# ☆\n",
    "# 61p / 1253\n",
    "# 10 / 1 2 3 4 5 6 7 8 9 10\n",
    "n = int(input())\n",
    "numbers = list(map(int, input().split()))\n",
    "numbers.sort()\n",
    "count = 0\n",
    "\n",
    "for i in range(n):\n",
    "    number = numbers[i]\n",
    "    start_idx = 0\n",
    "    end_idx = n-1\n",
    "    while start_idx < end_idx:\n",
    "        sum = numbers[start_idx] + numbers[end_idx]\n",
    "        if sum == number:\n",
    "            if start_idx != i and end_idx != i:\n",
    "                count += 1\n",
    "                break\n",
    "            elif start_idx == i:\n",
    "                start_idx += 1\n",
    "            elif end_idx == i:\n",
    "                end_idx -= 1     \n",
    "        elif sum < number:\n",
    "            start_idx += 1\n",
    "        else:\n",
    "            end_idx -= 1            \n",
    "\n",
    "print(count)"
   ]
  },
  {
   "attachments": {},
   "cell_type": "markdown",
   "metadata": {},
   "source": [
    "##### 슬라이딩 윈도우"
   ]
  },
  {
   "cell_type": "code",
   "execution_count": 7,
   "metadata": {},
   "outputs": [
    {
     "name": "stdout",
     "output_type": "stream",
     "text": [
      "0\n"
     ]
    }
   ],
   "source": [
    "# 65p / 12891\n",
    "# 9 8 / CCTGGATTG / 2 0 1 1\n",
    "check_li = [0] * 4\n",
    "current_li = [0] * 4\n",
    "check = 0\n",
    "\n",
    "def add(sns):\n",
    "    global check_li, current_li, check\n",
    "    if sns == 'A':\n",
    "        current_li[0] += 1\n",
    "        if current_li[0] == check_li[0]:\n",
    "            check += 1\n",
    "    elif sns == 'C':\n",
    "        current_li[1] += 1\n",
    "        if current_li[1] == check_li[1]:\n",
    "            check += 1\n",
    "    elif sns == 'G':\n",
    "        current_li[2] += 1\n",
    "        if current_li[2] == check_li[2]:\n",
    "            check += 1\n",
    "    elif sns == 'T':\n",
    "        current_li[3] += 1\n",
    "        if current_li[3] == check_li[3]:\n",
    "            check += 1\n",
    "\n",
    "def remove(sns):\n",
    "    global check_li, current_li, check\n",
    "    if sns == 'A':\n",
    "        if current_li[0] == check_li[0]:\n",
    "            check -= 1\n",
    "        current_li[0] -= 1\n",
    "    elif sns == 'C':\n",
    "        if current_li[1] == check_li[1]:\n",
    "            check -= 1\n",
    "        current_li[1] -= 1\n",
    "    elif sns == 'G':\n",
    "        if current_li[2] == check_li[2]:\n",
    "            check -= 1\n",
    "        current_li[2] -= 1\n",
    "    elif sns == 'T':\n",
    "        if current_li[3] == check_li[3]:\n",
    "            check -= 1\n",
    "        current_li[3] -= 1\n",
    "\n",
    "dna_len, pw_len = map(int, input().split())\n",
    "sns = list(input())\n",
    "check_li = list(map(int, input().split()))\n",
    "result = 0\n",
    "\n",
    "for i in range(4):\n",
    "    if check_li[i] == 0:\n",
    "        check += 1\n",
    "\n",
    "for i in range(pw_len):\n",
    "    add(sns[i])\n",
    "\n",
    "if check == 4:\n",
    "    result += 1\n",
    "\n",
    "for i in range(pw_len, dna_len):\n",
    "    j = i - pw_len\n",
    "    add(sns[i])\n",
    "    remove(sns[j])\n",
    "    if check == 4:\n",
    "        result += 1\n",
    "\n",
    "print(result)"
   ]
  },
  {
   "cell_type": "code",
   "execution_count": 17,
   "metadata": {},
   "outputs": [
    {
     "name": "stdout",
     "output_type": "stream",
     "text": [
      "1 1 1 2 2 2 2 2 3 3 2 2 "
     ]
    }
   ],
   "source": [
    "# ☆\n",
    "# 71p / 11003\n",
    "# 12 3 / 1 5 2 3 6 2 3 7 3 5 2 6\n",
    "from collections import deque\n",
    "\n",
    "n, len = map(int, input().split())\n",
    "deq = deque()\n",
    "origin_li = list(map(int, input().split()))\n",
    "\n",
    "for i in range(n):\n",
    "    while deq and deq[-1][1] > origin_li[i]:\n",
    "        deq.pop()\n",
    "    deq.append((i, origin_li[i]))\n",
    "    if deq[0][0] <= i - len:\n",
    "        deq.popleft()\n",
    "    print(deq[0][1], end=' ')"
   ]
  },
  {
   "attachments": {},
   "cell_type": "markdown",
   "metadata": {},
   "source": [
    "##### 스택과 큐"
   ]
  },
  {
   "cell_type": "code",
   "execution_count": 1,
   "metadata": {},
   "outputs": [
    {
     "name": "stdout",
     "output_type": "stream",
     "text": [
      "+\n",
      "+\n",
      "+\n",
      "+\n",
      "-\n",
      "-\n",
      "+\n",
      "+\n",
      "-\n",
      "+\n",
      "+\n",
      "-\n",
      "-\n",
      "-\n",
      "-\n",
      "-\n",
      "\n"
     ]
    }
   ],
   "source": [
    "# 78p / 1874\n",
    "# 8 / 4 / 3 / 6 / 8 / 7 / 5 / 2 / 1\n",
    "import sys\n",
    "input = sys.stdin.readline\n",
    "\n",
    "n = int(input())\n",
    "seq_li = [0] * n\n",
    "\n",
    "for i in range(n):\n",
    "    seq_li[i] = int(input())\n",
    "\n",
    "stack = []\n",
    "num = 1\n",
    "result = True\n",
    "answer = \"\"\n",
    "\n",
    "for i in range(n):\n",
    "    seq = seq_li[i]\n",
    "    if seq >= num:\n",
    "        while seq >= num:\n",
    "            stack.append(num)\n",
    "            num += 1\n",
    "            answer += '+\\n'\n",
    "        stack.pop()\n",
    "        answer += '-\\n'\n",
    "    else:\n",
    "        if stack.pop() > seq:\n",
    "            print(\"NO\")\n",
    "            result = False\n",
    "            break\n",
    "        else:\n",
    "            answer += '-\\n'\n",
    "\n",
    "if result:\n",
    "    print(answer)"
   ]
  },
  {
   "cell_type": "code",
   "execution_count": 5,
   "metadata": {},
   "outputs": [
    {
     "name": "stdout",
     "output_type": "stream",
     "text": [
      "5 7 7 -1\n"
     ]
    }
   ],
   "source": [
    "# 82p / 17298\n",
    "# 4 / 3 5 2 7\n",
    "n = int(input())\n",
    "seq_li = list(map(int, input().split()))\n",
    "result_li = [0] * n\n",
    "stack = []\n",
    "\n",
    "for i in range(n):\n",
    "    while stack and seq_li[stack[-1]] < seq_li[i]:\n",
    "        result_li[stack.pop()] = seq_li[i]\n",
    "    stack.append(i)\n",
    "\n",
    "while stack:\n",
    "    result_li[stack.pop()] = -1\n",
    "\n",
    "result = \" \".join(map(str, result_li))\n",
    "\n",
    "print(result)"
   ]
  },
  {
   "cell_type": "code",
   "execution_count": 8,
   "metadata": {},
   "outputs": [
    {
     "name": "stdout",
     "output_type": "stream",
     "text": [
      "4\n"
     ]
    }
   ],
   "source": [
    "# 86p / 2164\n",
    "# 6\n",
    "from collections import deque\n",
    "\n",
    "n = int(input())\n",
    "queue = deque()\n",
    "\n",
    "for i in range(1, n+1):\n",
    "    queue.append(i)\n",
    "\n",
    "while len(queue) > 1:\n",
    "    queue.popleft()\n",
    "    queue.append(queue.popleft())\n",
    "\n",
    "print(queue[0])"
   ]
  },
  {
   "cell_type": "code",
   "execution_count": 2,
   "metadata": {},
   "outputs": [
    {
     "name": "stdout",
     "output_type": "stream",
     "text": [
      "-1\n",
      "\n",
      "1\n",
      "\n",
      "0\n",
      "\n"
     ]
    }
   ],
   "source": [
    "# 89p / 11286\n",
    "# 18 / 1 / -1 / 0 / 0 / 0 / 1 / 1 / -1 / -1 / 2 / -2 / 0 / 0 / 0 / 0 / 0 / 0 / 0\n",
    "import heapq\n",
    "import sys\n",
    "input = sys.stdin.readline\n",
    "\n",
    "n = int(input())\n",
    "pque = []\n",
    "\n",
    "for i in range(n):\n",
    "    num = int(input())\n",
    "    if num == 0:\n",
    "        if not pque:\n",
    "            print(\"0\")\n",
    "        else:\n",
    "            print(f\"{heapq.heappop(pque)[1]}\")\n",
    "    else:\n",
    "        heapq.heappush(pque, (abs(num), num))"
   ]
  },
  {
   "attachments": {},
   "cell_type": "markdown",
   "metadata": {},
   "source": [
    "#### 정렬"
   ]
  },
  {
   "attachments": {},
   "cell_type": "markdown",
   "metadata": {},
   "source": [
    "##### 버블 정렬"
   ]
  },
  {
   "cell_type": "code",
   "execution_count": 3,
   "metadata": {},
   "outputs": [
    {
     "name": "stdout",
     "output_type": "stream",
     "text": [
      "1\n",
      "2\n",
      "3\n",
      "4\n",
      "5\n"
     ]
    }
   ],
   "source": [
    "# ☆\n",
    "# 96p / 2750\n",
    "# 5 / 5 / 2 / 3 / 4 / 1\n",
    "import sys\n",
    "input = sys.stdin.readline\n",
    "\n",
    "n = int(input())\n",
    "num_li = [0] * n\n",
    "\n",
    "for i in range(n):\n",
    "    num_li[i] = int(input())\n",
    "\n",
    "for i in range(n-1):\n",
    "    for j in range(n-1-i):\n",
    "        if num_li[j] > num_li[j+1]:\n",
    "            small = num_li[j]\n",
    "            num_li[j] = num_li[j+1]\n",
    "            num_li[j+1] = small\n",
    "        else :\n",
    "            pass\n",
    "\n",
    "for i in range(n):\n",
    "    print(num_li[i])"
   ]
  },
  {
   "cell_type": "code",
   "execution_count": 1,
   "metadata": {},
   "outputs": [
    {
     "name": "stdout",
     "output_type": "stream",
     "text": [
      "3\n"
     ]
    }
   ],
   "source": [
    "# 98p / 1377\n",
    "# 5 / 10 / 1 / 5 / 2 / 3\n",
    "# import sys\n",
    "# input = sys.stdin.readline\n",
    "\n",
    "n = int(input())\n",
    "num_li = []\n",
    "\n",
    "for i in range(n):\n",
    "    num_li.append((i, int(input())))\n",
    "\n",
    "sort_li = sorted(num_li, key=lambda x : x[1])\n",
    "m = 0\n",
    "\n",
    "for i in range(n):\n",
    "    if m < sort_li[i][0]-i:\n",
    "        m = sort_li[i][0]-i\n",
    "\n",
    "print(m+1)"
   ]
  },
  {
   "attachments": {},
   "cell_type": "markdown",
   "metadata": {},
   "source": [
    "##### 선택 정렬"
   ]
  },
  {
   "cell_type": "code",
   "execution_count": 2,
   "metadata": {},
   "outputs": [
    {
     "name": "stdout",
     "output_type": "stream",
     "text": [
      "4321\n"
     ]
    }
   ],
   "source": [
    "# 103p / 1427\n",
    "# 2143\n",
    "num_li = list(input())\n",
    "\n",
    "for i in range(len(num_li)):\n",
    "    max_idx = i\n",
    "    for j in range(i+1, len(num_li)):\n",
    "        if num_li[j] > num_li[max_idx]:\n",
    "            max_idx = j\n",
    "    if num_li[i] < num_li[max_idx]:\n",
    "        swap = num_li[i]\n",
    "        num_li[i] = num_li[max_idx]\n",
    "        num_li[max_idx] = swap\n",
    "\n",
    "print(\"\".join(num_li))"
   ]
  },
  {
   "attachments": {},
   "cell_type": "markdown",
   "metadata": {},
   "source": [
    "##### 삽입 정렬"
   ]
  },
  {
   "cell_type": "code",
   "execution_count": 4,
   "metadata": {},
   "outputs": [
    {
     "name": "stdout",
     "output_type": "stream",
     "text": [
      "32\n"
     ]
    }
   ],
   "source": [
    "# 107p / 11399\n",
    "# 5 / 3 1 4 3 2\n",
    "n = int(input())\n",
    "time_li = list(map(int, input().split()))\n",
    "prefix_li = [0] * n\n",
    "\n",
    "for i in range(1, n):\n",
    "    ip = i\n",
    "    iv = time_li[i]\n",
    "    for j in range(i-1, -1, -1):\n",
    "        if time_li[j] < time_li[i]:\n",
    "            ip = j + 1\n",
    "            break\n",
    "        if j == 0:\n",
    "            ip = 0\n",
    "    for j in range(i, ip, -1):\n",
    "        time_li[j] = time_li[j-1]\n",
    "    time_li[ip] = iv\n",
    "\n",
    "prefix_li[0] = time_li[0]\n",
    "\n",
    "for i in range(1, n):\n",
    "    prefix_li[i] = prefix_li[i-1] + time_li[i]\n",
    "\n",
    "print(sum(prefix_li))"
   ]
  },
  {
   "cell_type": "code",
   "execution_count": 13,
   "metadata": {},
   "outputs": [
    {
     "name": "stdout",
     "output_type": "stream",
     "text": [
      "32\n"
     ]
    }
   ],
   "source": [
    "# 107p / 11399\n",
    "# 5 / 3 1 4 3 2\n",
    "n = int(input())\n",
    "time_li = list(map(int, input().split()))\n",
    "sorted_li = sorted(time_li)\n",
    "prefix_li = [0] * n\n",
    "\n",
    "prefix_li[0] = sorted_li[0]\n",
    "\n",
    "for i in range(1, n):\n",
    "    prefix_li[i] = prefix_li[i-1] + sorted_li[i]\n",
    "\n",
    "print(sum(prefix_li))"
   ]
  },
  {
   "attachments": {},
   "cell_type": "markdown",
   "metadata": {},
   "source": [
    "##### 퀵 정렬"
   ]
  },
  {
   "cell_type": "code",
   "execution_count": 9,
   "metadata": {},
   "outputs": [
    {
     "name": "stdout",
     "output_type": "stream",
     "text": [
      "2\n"
     ]
    }
   ],
   "source": [
    "# 113p / 11004\n",
    "# 5 2 / 4 1 2 3 5\n",
    "n, k = map(int, input().split())\n",
    "num_li = list(map(int, input().split()))\n",
    "\n",
    "def swap(i, j):\n",
    "    global num_li\n",
    "    temp = num_li[i]\n",
    "    num_li[i] = num_li[j]\n",
    "    num_li[j] = temp\n",
    "\n",
    "def partition(start, end):\n",
    "    global num_li\n",
    "    if start + 1 == end:\n",
    "        if num_li[start] > num_li[end]:\n",
    "            swap(start, end)\n",
    "        return end\n",
    "    \n",
    "    mid = (start + end) // 2\n",
    "    swap(start, mid)\n",
    "    pivot = num_li[start]\n",
    "    i = start + 1\n",
    "    j = end\n",
    "\n",
    "    while i <= j :\n",
    "        while pivot < num_li[j] and j > 0:\n",
    "            j = j - 1\n",
    "        while pivot > num_li[i] and i < len(num_li)-1:\n",
    "            i = i + 1\n",
    "        if i <= j:\n",
    "            swap(i, j)\n",
    "            i = i + 1\n",
    "            j = j - 1\n",
    "    \n",
    "    num_li[start] = num_li[j]\n",
    "    num_li[j] = pivot\n",
    "\n",
    "    return j\n",
    "\n",
    "def quickSort(start, end, k):\n",
    "    global num_li\n",
    "    if start < end:\n",
    "        pivot = partition(start, end)\n",
    "        if pivot == k:\n",
    "            return\n",
    "        elif k < pivot:\n",
    "            quickSort(start, pivot - 1, k)\n",
    "        else:\n",
    "            quickSort(pivot + 1, end, k)\n",
    "\n",
    "quickSort(0, n - 1, k - 1)\n",
    "print(num_li[k - 1])"
   ]
  },
  {
   "cell_type": "code",
   "execution_count": 8,
   "metadata": {},
   "outputs": [
    {
     "name": "stdout",
     "output_type": "stream",
     "text": [
      "2\n"
     ]
    }
   ],
   "source": [
    "# 113p / 11004\n",
    "# 5 2 / 4 1 2 3 5\n",
    "n, k = map(int, input().split())\n",
    "num_li = list(map(int, input().split()))\n",
    "sorted_li = sorted(num_li)\n",
    "\n",
    "print(sorted_li[k-1])"
   ]
  },
  {
   "attachments": {},
   "cell_type": "markdown",
   "metadata": {},
   "source": [
    "##### 병합 정렬"
   ]
  },
  {
   "cell_type": "code",
   "execution_count": 2,
   "metadata": {},
   "outputs": [
    {
     "name": "stdout",
     "output_type": "stream",
     "text": [
      "1\n",
      "2\n",
      "3\n",
      "4\n",
      "5\n"
     ]
    }
   ],
   "source": [
    "# 120p / 2751\n",
    "# 5 / 5 / 4 / 3 / 2 / 1\n",
    "import sys\n",
    "input = sys.stdin.readline\n",
    "\n",
    "n = int(input())\n",
    "num_li = [0] * int(n + 1)\n",
    "temp = [0] * int(n + 1)\n",
    "\n",
    "for i in range(1, n + 1):\n",
    "    num_li[i] = int(input())\n",
    "\n",
    "def mergeSort(start, end):\n",
    "    if end - start < 1:\n",
    "        return\n",
    "    \n",
    "    mid = int(start + ((end - start) / 2))\n",
    "\n",
    "    mergeSort(start, mid)\n",
    "    mergeSort(mid + 1, end)\n",
    "\n",
    "    for i in range(start, end + 1):\n",
    "        temp[i] = num_li[i]\n",
    "\n",
    "    k = start\n",
    "    idx_1 = start\n",
    "    idx_2 = mid + 1\n",
    "\n",
    "    while idx_1 <= mid and idx_2 <= end:\n",
    "        if temp[idx_1] > temp[idx_2]:\n",
    "            num_li[k] = temp[idx_2]\n",
    "            k += 1\n",
    "            idx_2 += 1\n",
    "        else:\n",
    "            num_li[k] = temp[idx_1]\n",
    "            k += 1\n",
    "            idx_1 += 1\n",
    "    \n",
    "    while idx_1 <= mid:\n",
    "        num_li[k] = temp[idx_1]\n",
    "        k += 1\n",
    "        idx_1 += 1\n",
    "    \n",
    "    while idx_2 <= end:\n",
    "        num_li[k] = temp[idx_2]\n",
    "        k += 1\n",
    "        idx_2 += 1\n",
    "\n",
    "mergeSort(1, n)\n",
    "\n",
    "for i in range(1, n + 1):\n",
    "    print(num_li[i])"
   ]
  },
  {
   "cell_type": "code",
   "execution_count": 1,
   "metadata": {},
   "outputs": [
    {
     "name": "stdout",
     "output_type": "stream",
     "text": [
      "1\n",
      "2\n",
      "3\n",
      "4\n",
      "5\n"
     ]
    }
   ],
   "source": [
    "# 120p / 2751\n",
    "# 5 / 5 / 4 / 3 / 2 / 1\n",
    "import sys\n",
    "input = sys.stdin.readline\n",
    "\n",
    "n = int(input())\n",
    "num_li = [0] * n\n",
    "\n",
    "for i in range(n):\n",
    "    num_li[i] = int(input())\n",
    "\n",
    "sorted_li = sorted(num_li)\n",
    "\n",
    "for i in sorted_li:\n",
    "    print(i)"
   ]
  },
  {
   "cell_type": "code",
   "execution_count": 2,
   "metadata": {},
   "outputs": [
    {
     "name": "stdout",
     "output_type": "stream",
     "text": [
      "11\n"
     ]
    }
   ],
   "source": [
    "# 124p / 1517\n",
    "# 8 / 3 2 8 1 7 4 5 6\n",
    "import sys\n",
    "input = sys.stdin.readline\n",
    "\n",
    "n = int(input())\n",
    "num_li = list(map(int, input().split()))\n",
    "num_li.insert(0, 0)\n",
    "temp = [0] * int(n + 1)\n",
    "result = 0\n",
    "\n",
    "def mergeSort(start, end):\n",
    "    global result\n",
    "    if end - start < 1:\n",
    "        return\n",
    "    \n",
    "    mid = int(start + ((end - start) / 2))\n",
    "\n",
    "    mergeSort(start, mid)\n",
    "    mergeSort(mid + 1, end)\n",
    "\n",
    "    for i in range(start, end + 1):\n",
    "        temp[i] = num_li[i]\n",
    "\n",
    "    k = start # 원본 num_li의 인덱스\n",
    "    idx_1 = start\n",
    "    idx_2 = mid + 1\n",
    "\n",
    "    while idx_1 <= mid and idx_2 <= end:\n",
    "        if temp[idx_1] > temp[idx_2]:\n",
    "            num_li[k] = temp[idx_2]\n",
    "            result = result + idx_2 - k\n",
    "            k += 1\n",
    "            idx_2 += 1\n",
    "        else:\n",
    "            num_li[k] = temp[idx_1]\n",
    "            k += 1\n",
    "            idx_1 += 1\n",
    "    \n",
    "    while idx_1 <= mid:\n",
    "        num_li[k] = temp[idx_1]\n",
    "        k += 1\n",
    "        idx_1 += 1\n",
    "    \n",
    "    while idx_2 <= end:\n",
    "        num_li[k] = temp[idx_2]\n",
    "        k += 1\n",
    "        idx_2 += 1\n",
    "\n",
    "mergeSort(1, n)\n",
    "\n",
    "print(result)"
   ]
  },
  {
   "attachments": {},
   "cell_type": "markdown",
   "metadata": {},
   "source": [
    "##### 기수 정렬"
   ]
  },
  {
   "cell_type": "code",
   "execution_count": 1,
   "metadata": {},
   "outputs": [
    {
     "name": "stdout",
     "output_type": "stream",
     "text": [
      "8\n",
      "15\n",
      "24\n",
      "100\n",
      "145\n",
      "198\n",
      "215\n",
      "294\n",
      "344\n",
      "372\n",
      "831\n"
     ]
    }
   ],
   "source": [
    "# 130p / 10989\n",
    "# 11 / 215 / 15 / 344 / 372 / 294 / 100 / 8 / 145 / 24 / 198 / 831\n",
    "import sys\n",
    "input = sys.stdin.readline\n",
    "\n",
    "n = int(input())\n",
    "count = [0] * 10001\n",
    "\n",
    "for i in range(n):\n",
    "    count[int(input())] += 1\n",
    "\n",
    "for i in range(10001):\n",
    "    if count[i] != 0:\n",
    "        for _ in range(count[i]):\n",
    "            print(i)"
   ]
  },
  {
   "attachments": {},
   "cell_type": "markdown",
   "metadata": {},
   "source": [
    "#### 탐색"
   ]
  },
  {
   "attachments": {},
   "cell_type": "markdown",
   "metadata": {},
   "source": [
    "##### DFS"
   ]
  },
  {
   "cell_type": "code",
   "execution_count": 3,
   "metadata": {},
   "outputs": [
    {
     "name": "stdout",
     "output_type": "stream",
     "text": [
      "2\n"
     ]
    }
   ],
   "source": [
    "# ☆\n",
    "# 137p / 11724\n",
    "# 6 5 / 1 2 / 2 5 / 5 1 / 3 4 / 4 6\n",
    "import sys\n",
    "sys.setrecursionlimit(10000)\n",
    "input = sys.stdin.readline\n",
    "\n",
    "node_num, edge_num = map(int, input().split())\n",
    "adj_li = [[] for _ in range(node_num+1)]\n",
    "visited = [False] * (node_num+1)\n",
    "\n",
    "for _ in range(edge_num):\n",
    "    start, end = map(int, input().split())\n",
    "    adj_li[start].append(end)\n",
    "    adj_li[end].append(start)\n",
    "\n",
    "def DFS(node):\n",
    "    visited[node] = True\n",
    "    for i in adj_li[node]:\n",
    "        if not visited[i]:\n",
    "            DFS(i)\n",
    "\n",
    "count = 0\n",
    "\n",
    "for i in range(1, node_num+1):\n",
    "    if not visited[i]:\n",
    "        count += 1\n",
    "        DFS(i)\n",
    "\n",
    "print(count)"
   ]
  },
  {
   "cell_type": "code",
   "execution_count": 7,
   "metadata": {},
   "outputs": [
    {
     "name": "stdout",
     "output_type": "stream",
     "text": [
      "2333\n",
      "2339\n",
      "2393\n",
      "2399\n",
      "2939\n",
      "3119\n",
      "3137\n",
      "3733\n",
      "3739\n",
      "3793\n",
      "3797\n",
      "5939\n",
      "7193\n",
      "7331\n",
      "7333\n",
      "7393\n"
     ]
    }
   ],
   "source": [
    "# 141p / 2023\n",
    "# 4\n",
    "import sys\n",
    "sys.setrecursionlimit(10000)\n",
    "\n",
    "n = int(input())\n",
    "\n",
    "def isPrime(num):\n",
    "    for i in range(2, int(num / 2 + 1)): # 범위 왜?\n",
    "        if num % i == 0:\n",
    "            return False\n",
    "    return True\n",
    "\n",
    "def DFS(num):\n",
    "    if len(str(num)) == n:\n",
    "        print(num)\n",
    "    else:\n",
    "        for i in range(1, 10):\n",
    "            if i % 2 == 0:\n",
    "                continue\n",
    "            if isPrime(num * 10 + i):\n",
    "                DFS(num * 10 + i)\n",
    "\n",
    "DFS(2)\n",
    "DFS(3)\n",
    "DFS(5)\n",
    "DFS(7)"
   ]
  },
  {
   "cell_type": "code",
   "execution_count": 3,
   "metadata": {},
   "outputs": [
    {
     "name": "stdout",
     "output_type": "stream",
     "text": [
      "1\n"
     ]
    }
   ],
   "source": [
    "# 145p / 13023\n",
    "# 8 8 / 1 7 / 3 7 / 4 7 / 3 4 / 4 6 / 3 5 / 0 4 / 2 7\n",
    "import sys\n",
    "sys.setrecursionlimit(10000)\n",
    "input = sys.stdin.readline\n",
    "\n",
    "node_num, edge_num = map(int, input().split())\n",
    "adj_li = [[] for _ in range(node_num+1)]\n",
    "visited = [False] * (node_num+1)\n",
    "arrive = False\n",
    "\n",
    "for _ in range(edge_num):\n",
    "    start, end = map(int, input().split())\n",
    "    adj_li[start].append(end)\n",
    "    adj_li[end].append(start)\n",
    "\n",
    "def DFS(node, dep):\n",
    "    global arrive\n",
    "    if dep == 5:\n",
    "        arrive = True\n",
    "        return\n",
    "    \n",
    "    visited[node] = True\n",
    "\n",
    "    for i in adj_li[node]:\n",
    "        if not visited[i] :\n",
    "            DFS(i, dep + 1)\n",
    "    \n",
    "    visited[node] = False # 왜 있지?\n",
    "\n",
    "for i in range(node_num):\n",
    "    DFS(i, 1)\n",
    "    if arrive:\n",
    "        break\n",
    "\n",
    "if arrive == True:\n",
    "    print(1)\n",
    "else:\n",
    "    print(0)"
   ]
  },
  {
   "attachments": {},
   "cell_type": "markdown",
   "metadata": {},
   "source": [
    "##### BFS"
   ]
  },
  {
   "cell_type": "code",
   "execution_count": 1,
   "metadata": {},
   "outputs": [
    {
     "name": "stdout",
     "output_type": "stream",
     "text": [
      "1 2 4 3\n",
      "1 2 3 4\n"
     ]
    }
   ],
   "source": [
    "# ★\n",
    "# 152p / 1260\n",
    "# 4 5 1 / 1 2 / 1 3 / 1 4 / 2 4 / 3 4\n",
    "from collections import deque\n",
    "import sys\n",
    "sys.setrecursionlimit(10000)\n",
    "input = sys.stdin.readline\n",
    "\n",
    "node_num, edge_num, start_node = map(int, input().split())\n",
    "adj_li = [[] for _ in range(node_num+1)]\n",
    "DFS_visited = [False] * (node_num+1)\n",
    "BFS_visited = [False] * (node_num+1)\n",
    "DFS_result = []\n",
    "BFS_result = []\n",
    "\n",
    "for _ in range(edge_num):\n",
    "    start, end = map(int, input().split())\n",
    "    adj_li[start].append(end)\n",
    "    adj_li[end].append(start)\n",
    "\n",
    "for i in range(node_num+1):\n",
    "    adj_li[i].sort() \n",
    "\n",
    "def DFS(node):\n",
    "    DFS_result.append(node)\n",
    "\n",
    "    DFS_visited[node] = True\n",
    "\n",
    "    for i in adj_li[node]:\n",
    "        if not DFS_visited[i]:\n",
    "            DFS(i)\n",
    "\n",
    "DFS(start_node)\n",
    "print(\" \".join(map(str, DFS_result)))\n",
    "\n",
    "def BFS(node):\n",
    "    queue = deque()\n",
    "    queue.append(node)\n",
    "\n",
    "    BFS_visited[node] = True\n",
    "\n",
    "    while queue:\n",
    "        now_node = queue.popleft()\n",
    "        BFS_result.append(now_node)\n",
    "        \n",
    "        for i in adj_li[now_node]:\n",
    "            if not BFS_visited[i]:\n",
    "                BFS_visited[i] = True\n",
    "                queue.append(i)\n",
    "\n",
    "BFS(start_node)\n",
    "print(\" \".join(map(str, BFS_result)))\n"
   ]
  },
  {
   "cell_type": "code",
   "execution_count": 3,
   "metadata": {},
   "outputs": [
    {
     "name": "stdout",
     "output_type": "stream",
     "text": [
      "9\n"
     ]
    }
   ],
   "source": [
    "# 157p / 2178\n",
    "# 4 6 / 110110 / 110110 / 111111 / 111101\n",
    "from collections import deque\n",
    "import sys\n",
    "input = sys.stdin.readline\n",
    "\n",
    "n, m = map(int, input().split())\n",
    "matrix = [[0] * m for _ in range(n)]\n",
    "visited = [[False] * m for _ in range(n)]\n",
    "\n",
    "for i in range(n):\n",
    "    numbers = list(input())\n",
    "    for j in range(m):\n",
    "        matrix[i][j] = int(numbers[j])\n",
    "\n",
    "dx = [0, 1, 0, -1]\n",
    "dy = [1, 0, -1, 0]\n",
    "\n",
    "def BFS(i, j):\n",
    "    queue = deque()\n",
    "    queue.append((i, j))\n",
    "\n",
    "    visited[i][j] = True\n",
    "\n",
    "    while queue:\n",
    "        now_node = queue.popleft()\n",
    "\n",
    "        for k in range(4):\n",
    "            x = now_node[0] + dx[k]\n",
    "            y = now_node[1] + dy[k]\n",
    "            \n",
    "            if x >= 0 and y >= 0 and x < n and y < m:\n",
    "                if matrix[x][y] != 0 and not visited[x][y]:\n",
    "                    visited[x][y] = True\n",
    "                    matrix[x][y] = matrix[now_node[0]][now_node[1]] + 1\n",
    "                    queue.append((x, y))\n",
    "\n",
    "BFS(0, 0)\n",
    "\n",
    "print(matrix[n-1][m-1])"
   ]
  },
  {
   "cell_type": "code",
   "execution_count": 5,
   "metadata": {},
   "outputs": [
    {
     "name": "stdout",
     "output_type": "stream",
     "text": [
      "11\n"
     ]
    }
   ],
   "source": [
    "# 161p / 1167\n",
    "# 5 / 1 3 2 -1 / 2 4 4 -1 / 3 1 2 4 3 -1 / 4 2 4 3 3 5 6 -1 / 5 4 6 -1\n",
    "from collections import deque\n",
    "import sys\n",
    "input = sys.stdin.readline\n",
    "\n",
    "n = int(input())\n",
    "adj_li = [[] for _ in range(n+1)]\n",
    "visited = [False] * (n+1)\n",
    "distance = [0] * (n+1)\n",
    "\n",
    "for _ in range(n):\n",
    "    data = list(map(int, input().split()))\n",
    "    idx = 0\n",
    "\n",
    "    start = data[idx]\n",
    "    idx += 1\n",
    "\n",
    "    while True:\n",
    "        end = data[idx]\n",
    "\n",
    "        if end == -1:\n",
    "            break\n",
    "        \n",
    "        edge = data[idx + 1]\n",
    "        adj_li[start].append((end, edge))\n",
    "        idx += 2\n",
    "\n",
    "def BFS(node):\n",
    "    queue = deque()\n",
    "    queue.append(node)\n",
    "\n",
    "    visited[node] = True\n",
    "\n",
    "    while queue:\n",
    "        now_node = queue.popleft()\n",
    "\n",
    "        for i in adj_li[now_node]:\n",
    "            if not visited[i[0]]:\n",
    "                visited[i[0]] = True\n",
    "                queue.append(i[0])\n",
    "                distance[i[0]] = distance[now_node] + i[1]\n",
    "\n",
    "BFS(1)\n",
    "Max = 1\n",
    "\n",
    "for i in range(2, n+1):\n",
    "    if distance[Max] < distance[i]:\n",
    "        Max = i\n",
    "\n",
    "visited = [False] * (n+1)\n",
    "distance = [0] * (n+1)\n",
    "\n",
    "BFS(Max)\n",
    "distance.sort()\n",
    "print(distance[n])"
   ]
  },
  {
   "attachments": {},
   "cell_type": "markdown",
   "metadata": {},
   "source": [
    "##### 이진 탐색"
   ]
  },
  {
   "cell_type": "code",
   "execution_count": 7,
   "metadata": {},
   "outputs": [
    {
     "name": "stdout",
     "output_type": "stream",
     "text": [
      "1\n",
      "1\n",
      "0\n",
      "0\n",
      "1\n"
     ]
    }
   ],
   "source": [
    "# ☆\n",
    "# 169p / 1920\n",
    "# 5 / 4 1 5 2 3 / 5 / 1 3 7 9 5\n",
    "n = int(input())\n",
    "num_li = list(map(int, input().split()))\n",
    "sorted_li = sorted(num_li)\n",
    "\n",
    "target_n = int(input())\n",
    "target_li = list(map(int, input().split()))\n",
    "\n",
    "for i in range(target_n):\n",
    "    find = False\n",
    "    target = target_li[i]\n",
    "\n",
    "    start = 0\n",
    "    end = len(sorted_li) - 1\n",
    "\n",
    "    while start <= end:\n",
    "        mid = (start + end) // 2\n",
    "        \n",
    "        if sorted_li[mid] > target:\n",
    "            end = mid - 1\n",
    "        elif sorted_li[mid] < target:\n",
    "            start = mid + 1\n",
    "        else:\n",
    "            find = True\n",
    "            break\n",
    "\n",
    "    if find:\n",
    "        print(1)\n",
    "    else:\n",
    "        print(0)"
   ]
  },
  {
   "cell_type": "code",
   "execution_count": 3,
   "metadata": {},
   "outputs": [
    {
     "name": "stdout",
     "output_type": "stream",
     "text": [
      "17\n"
     ]
    }
   ],
   "source": [
    "# 173p / 2343\n",
    "# 9 3 / 1 2 3 4 5 6 7 8 9\n",
    "lesson, video = map(int, input().split())\n",
    "lesson_li = list(map(int, input().split()))\n",
    "start = max(lesson_li)\n",
    "end = sum(lesson_li)\n",
    "\n",
    "while start <= end:\n",
    "    mid = (start + end) // 2\n",
    "    lesson_sum = 0\n",
    "    video_count = 0\n",
    "\n",
    "    for i in range(lesson):\n",
    "        if lesson_sum + lesson_li[i] > mid:\n",
    "            video_count += 1\n",
    "            lesson_sum = 0\n",
    "\n",
    "        lesson_sum += lesson_li[i]\n",
    "\n",
    "    if lesson_sum != 0:\n",
    "        video_count += 1\n",
    "\n",
    "    if video_count > video:\n",
    "        start = mid + 1\n",
    "    else:\n",
    "        end = mid - 1\n",
    "\n",
    "print(start)"
   ]
  },
  {
   "cell_type": "code",
   "execution_count": 2,
   "metadata": {},
   "outputs": [
    {
     "name": "stdout",
     "output_type": "stream",
     "text": [
      "6\n"
     ]
    }
   ],
   "source": [
    "# 177p / 1300\n",
    "# 3 / 7\n",
    "n = int(input())\n",
    "k = int(input())\n",
    "start = 1\n",
    "end = k\n",
    "answer = 0\n",
    "\n",
    "while start <= end:\n",
    "    mid = (start + end) // 2\n",
    "    cnt = 0\n",
    "\n",
    "    for i in range(1, n+1):\n",
    "        cnt += min(mid//i, n)\n",
    "\n",
    "    if cnt < k:\n",
    "        start = mid + 1\n",
    "    else:\n",
    "        answer = mid\n",
    "        end = mid - 1\n",
    "        \n",
    "print(answer)"
   ]
  },
  {
   "attachments": {},
   "cell_type": "markdown",
   "metadata": {},
   "source": [
    "#### 그리디"
   ]
  },
  {
   "attachments": {},
   "cell_type": "markdown",
   "metadata": {},
   "source": [
    "##### 그리디 알고리즘"
   ]
  },
  {
   "cell_type": "code",
   "execution_count": 4,
   "metadata": {},
   "outputs": [
    {
     "name": "stdout",
     "output_type": "stream",
     "text": [
      "6\n"
     ]
    }
   ],
   "source": [
    "# 183p / 11047\n",
    "# 10 4200 / 1 / 5 / 10 / 50 / 100 / 500 / 1000 / 5000 / 10000 / 50000\n",
    "import sys\n",
    "input = sys.stdin.readline\n",
    "\n",
    "n, k = map(int, input().split())\n",
    "coin_li = [0] * 10\n",
    "count = 0\n",
    "\n",
    "for i in range(n):\n",
    "    coin_li[i] = int(input())\n",
    "\n",
    "for i in range(n-1, -1, -1):\n",
    "    if coin_li[i] <= k:\n",
    "        count += k // coin_li[i]\n",
    "        k = k % coin_li[i]\n",
    "        \n",
    "    if k == 0:\n",
    "        break\n",
    "\n",
    "print(count)"
   ]
  },
  {
   "cell_type": "code",
   "execution_count": 3,
   "metadata": {},
   "outputs": [],
   "source": [
    "# 188p / 1715"
   ]
  },
  {
   "cell_type": "code",
   "execution_count": null,
   "metadata": {},
   "outputs": [],
   "source": [
    "# 191p / 1744"
   ]
  },
  {
   "cell_type": "code",
   "execution_count": null,
   "metadata": {},
   "outputs": [],
   "source": [
    "# 195p / 1931"
   ]
  },
  {
   "cell_type": "code",
   "execution_count": 7,
   "metadata": {},
   "outputs": [
    {
     "name": "stdout",
     "output_type": "stream",
     "text": [
      "-222\n"
     ]
    }
   ],
   "source": [
    "# ☆\n",
    "# 198p / 1541\n",
    "# 100-40+50+74-30+29-45+43+11\n",
    "answer = 0\n",
    "formula = list(input().split('-'))\n",
    "\n",
    "def mysum(string):\n",
    "    s = 0\n",
    "    numbers = string.split('+')\n",
    "    \n",
    "    for i in numbers:\n",
    "        s += int(i)\n",
    "    \n",
    "    return s\n",
    "\n",
    "for i in range(len(formula)):\n",
    "    numbers = mysum(formula[i])\n",
    "    \n",
    "    if i == 0:\n",
    "        answer += numbers\n",
    "    else:\n",
    "        answer -= numbers\n",
    "\n",
    "print(answer)"
   ]
  },
  {
   "attachments": {},
   "cell_type": "markdown",
   "metadata": {},
   "source": [
    "#### 정수론"
   ]
  },
  {
   "attachments": {},
   "cell_type": "markdown",
   "metadata": {},
   "source": [
    "##### 소수 구하기"
   ]
  },
  {
   "cell_type": "code",
   "execution_count": 17,
   "metadata": {},
   "outputs": [
    {
     "name": "stdout",
     "output_type": "stream",
     "text": [
      "3\n",
      "5\n",
      "7\n",
      "11\n",
      "13\n"
     ]
    }
   ],
   "source": [
    "# ★\n",
    "# 205 / 1929\n",
    "# 3 16\n",
    "start, end = map(int, input().split())\n",
    "li = [0] * (end+1)\n",
    "\n",
    "for i in range(2, end+1):\n",
    "    li[i] = i\n",
    "\n",
    "for i in range(2, int(end**0.5)+1):\n",
    "    if li[i] == 0:\n",
    "        continue\n",
    "    \n",
    "    for j in range(i+i, end+1, i):\n",
    "        li[j] = 0\n",
    "\n",
    "for i in range(start, end+1):\n",
    "    if li[i] != 0:\n",
    "        print(li[i])"
   ]
  },
  {
   "attachments": {},
   "cell_type": "markdown",
   "metadata": {},
   "source": [
    "##### 오일러 피"
   ]
  },
  {
   "attachments": {},
   "cell_type": "markdown",
   "metadata": {},
   "source": [
    "##### 유클리드 호제법"
   ]
  },
  {
   "attachments": {},
   "cell_type": "markdown",
   "metadata": {},
   "source": [
    "##### 확장 유클리드 호제법"
   ]
  }
 ],
 "metadata": {
  "kernelspec": {
   "display_name": "cp2",
   "language": "python",
   "name": "python3"
  },
  "language_info": {
   "codemirror_mode": {
    "name": "ipython",
    "version": 3
   },
   "file_extension": ".py",
   "mimetype": "text/x-python",
   "name": "python",
   "nbconvert_exporter": "python",
   "pygments_lexer": "ipython3",
   "version": "3.8.16"
  },
  "orig_nbformat": 4
 },
 "nbformat": 4,
 "nbformat_minor": 2
}
